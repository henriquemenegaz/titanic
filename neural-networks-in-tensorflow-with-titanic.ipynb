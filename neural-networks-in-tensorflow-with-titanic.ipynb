{
 "cells": [
  {
   "cell_type": "markdown",
   "execution_count": null,
   "metadata": {
    "papermill": {
     "duration": 0.012232,
     "end_time": "2020-08-14T19:23:05.144896",
     "exception": false,
     "start_time": "2020-08-14T19:23:05.132664",
     "status": "completed"
    },
    "tags": []
   },
   "source": [
    "## Overview\n",
    "* How to Prepare Data for a Kaggle Competition\n",
    "* Using sklearn preprocessing features with pipelines\n",
    "* Intro to Using Tensorflow\n",
    "* Writing a Custom Callback\n",
    "* Making a Submission!"
   ]
  },
  {
   "cell_type": "code",
   "execution_count": 1,
   "metadata": {
    "_cell_guid": "b1076dfc-b9ad-4769-8c92-a6c4dae69d19",
    "_uuid": "8f2839f25d086af736a60e9eeb907d3b93b6e0e5",
    "execution": {
     "iopub.execute_input": "2020-08-14T19:23:05.174413Z",
     "iopub.status.busy": "2020-08-14T19:23:05.173503Z",
     "iopub.status.idle": "2020-08-14T19:23:05.181150Z",
     "shell.execute_reply": "2020-08-14T19:23:05.179974Z"
    },
    "papermill": {
     "duration": 0.025775,
     "end_time": "2020-08-14T19:23:05.181384",
     "exception": false,
     "start_time": "2020-08-14T19:23:05.155609",
     "status": "completed"
    },
    "tags": []
   },
   "outputs": [
    {
     "name": "stdout",
     "output_type": "stream",
     "text": [
      "/kaggle/input/titanic/gender_submission.csv\n",
      "/kaggle/input/titanic/test.csv\n",
      "/kaggle/input/titanic/train.csv\n"
     ]
    }
   ],
   "source": [
    "# This Python 3 environment comes with many helpful analytics libraries installed\n",
    "# It is defined by the kaggle/python Docker image: https://github.com/kaggle/docker-python\n",
    "# For example, here's several helpful packages to load\n",
    "\n",
    "import numpy as np # linear algebra\n",
    "import pandas as pd # data processing, CSV file I/O (e.g. pd.read_csv)\n",
    "\n",
    "# Input data files are available in the read-only \"../input/\" directory\n",
    "# For example, running this (by clicking run or pressing Shift+Enter) will list all files under the input directory\n",
    "\n",
    "import os\n",
    "for dirname, _, filenames in os.walk('/kaggle/input'):\n",
    "    for filename in filenames:\n",
    "        print(os.path.join(dirname, filename))\n",
    "\n",
    "# You can write up to 5GB to the current directory (/kaggle/working/) that gets preserved as output when you create a version using \"Save & Run All\" \n",
    "# You can also write temporary files to /kaggle/temp/, but they won't be saved outside of the current session"
   ]
  },
  {
   "cell_type": "markdown",
   "execution_count": null,
   "metadata": {
    "papermill": {
     "duration": 0.010531,
     "end_time": "2020-08-14T19:23:05.203356",
     "exception": false,
     "start_time": "2020-08-14T19:23:05.192825",
     "status": "completed"
    },
    "tags": []
   },
   "source": [
    "# Reading the Data"
   ]
  },
  {
   "cell_type": "code",
   "execution_count": 2,
   "metadata": {
    "_cell_guid": "79c7e3d0-c299-4dcb-8224-4455121ee9b0",
    "_uuid": "d629ff2d2480ee46fbb7e2d37f6b5fab8052498a",
    "execution": {
     "iopub.execute_input": "2020-08-14T19:23:05.236054Z",
     "iopub.status.busy": "2020-08-14T19:23:05.234866Z",
     "iopub.status.idle": "2020-08-14T19:23:05.253170Z",
     "shell.execute_reply": "2020-08-14T19:23:05.252254Z"
    },
    "papermill": {
     "duration": 0.037732,
     "end_time": "2020-08-14T19:23:05.253355",
     "exception": false,
     "start_time": "2020-08-14T19:23:05.215623",
     "status": "completed"
    },
    "tags": []
   },
   "outputs": [],
   "source": [
    "train_df = pd.read_csv('../input/titanic/train.csv')"
   ]
  },
  {
   "cell_type": "code",
   "execution_count": 3,
   "metadata": {
    "execution": {
     "iopub.execute_input": "2020-08-14T19:23:05.312431Z",
     "iopub.status.busy": "2020-08-14T19:23:05.288451Z",
     "iopub.status.idle": "2020-08-14T19:23:05.316731Z",
     "shell.execute_reply": "2020-08-14T19:23:05.318029Z"
    },
    "papermill": {
     "duration": 0.054158,
     "end_time": "2020-08-14T19:23:05.318314",
     "exception": false,
     "start_time": "2020-08-14T19:23:05.264156",
     "status": "completed"
    },
    "tags": []
   },
   "outputs": [
    {
     "name": "stdout",
     "output_type": "stream",
     "text": [
      "<class 'pandas.core.frame.DataFrame'>\n",
      "RangeIndex: 891 entries, 0 to 890\n",
      "Data columns (total 12 columns):\n",
      " #   Column       Non-Null Count  Dtype  \n",
      "---  ------       --------------  -----  \n",
      " 0   PassengerId  891 non-null    int64  \n",
      " 1   Survived     891 non-null    int64  \n",
      " 2   Pclass       891 non-null    int64  \n",
      " 3   Name         891 non-null    object \n",
      " 4   Sex          891 non-null    object \n",
      " 5   Age          714 non-null    float64\n",
      " 6   SibSp        891 non-null    int64  \n",
      " 7   Parch        891 non-null    int64  \n",
      " 8   Ticket       891 non-null    object \n",
      " 9   Fare         891 non-null    float64\n",
      " 10  Cabin        204 non-null    object \n",
      " 11  Embarked     889 non-null    object \n",
      "dtypes: float64(2), int64(5), object(5)\n",
      "memory usage: 83.7+ KB\n"
     ]
    }
   ],
   "source": [
    "train_df.info()"
   ]
  },
  {
   "cell_type": "markdown",
   "execution_count": null,
   "metadata": {
    "papermill": {
     "duration": 0.011148,
     "end_time": "2020-08-14T19:23:05.341138",
     "exception": false,
     "start_time": "2020-08-14T19:23:05.329990",
     "status": "completed"
    },
    "tags": []
   },
   "source": [
    "Using ```.info``` is a quick way to investigate the data on a surface level. Now we can see each column name and how many values they have. It is clear that three columns, ```Age``` ```Cabin``` ```Embarked```, have some number of values missing. "
   ]
  },
  {
   "cell_type": "markdown",
   "execution_count": null,
   "metadata": {
    "papermill": {
     "duration": 0.010901,
     "end_time": "2020-08-14T19:23:05.362933",
     "exception": false,
     "start_time": "2020-08-14T19:23:05.352032",
     "status": "completed"
    },
    "tags": []
   },
   "source": [
    "Sometimes it is useful to look at one full row to see which columns will be most beneficial while training our data."
   ]
  },
  {
   "cell_type": "code",
   "execution_count": 4,
   "metadata": {
    "execution": {
     "iopub.execute_input": "2020-08-14T19:23:05.396009Z",
     "iopub.status.busy": "2020-08-14T19:23:05.395023Z",
     "iopub.status.idle": "2020-08-14T19:23:05.400327Z",
     "shell.execute_reply": "2020-08-14T19:23:05.399541Z"
    },
    "papermill": {
     "duration": 0.026533,
     "end_time": "2020-08-14T19:23:05.400463",
     "exception": false,
     "start_time": "2020-08-14T19:23:05.373930",
     "status": "completed"
    },
    "tags": []
   },
   "outputs": [
    {
     "data": {
      "text/plain": [
       "PassengerId                          1\n",
       "Survived                             0\n",
       "Pclass                               3\n",
       "Name           Braund, Mr. Owen Harris\n",
       "Sex                               male\n",
       "Age                                 22\n",
       "SibSp                                1\n",
       "Parch                                0\n",
       "Ticket                       A/5 21171\n",
       "Fare                              7.25\n",
       "Cabin                              NaN\n",
       "Embarked                             S\n",
       "Name: 0, dtype: object"
      ]
     },
     "execution_count": 4,
     "metadata": {},
     "output_type": "execute_result"
    }
   ],
   "source": [
    "train_df.loc[0]"
   ]
  },
  {
   "cell_type": "markdown",
   "execution_count": null,
   "metadata": {
    "papermill": {
     "duration": 0.011376,
     "end_time": "2020-08-14T19:23:05.423389",
     "exception": false,
     "start_time": "2020-08-14T19:23:05.412013",
     "status": "completed"
    },
    "tags": []
   },
   "source": [
    "First, we notice that the ```Survived``` category will not have any consequence if we drop the ```Name``` category. The ```Ticket``` class is also not going to be very useful. Keep in mind that the ```Ticket``` class would be categorical if we were to include it since not all of them are pure numbers. We will also drop ```PassengerId``` as it does not provide any useful information. For the purpose of this tutorial, we will not be using ```Cabin``` due to the large number of missing values."
   ]
  },
  {
   "cell_type": "code",
   "execution_count": 5,
   "metadata": {
    "execution": {
     "iopub.execute_input": "2020-08-14T19:23:05.467356Z",
     "iopub.status.busy": "2020-08-14T19:23:05.461676Z",
     "iopub.status.idle": "2020-08-14T19:23:05.472178Z",
     "shell.execute_reply": "2020-08-14T19:23:05.471392Z"
    },
    "papermill": {
     "duration": 0.036989,
     "end_time": "2020-08-14T19:23:05.472459",
     "exception": false,
     "start_time": "2020-08-14T19:23:05.435470",
     "status": "completed"
    },
    "tags": []
   },
   "outputs": [
    {
     "name": "stdout",
     "output_type": "stream",
     "text": [
      "<class 'pandas.core.frame.DataFrame'>\n",
      "RangeIndex: 891 entries, 0 to 890\n",
      "Data columns (total 8 columns):\n",
      " #   Column    Non-Null Count  Dtype  \n",
      "---  ------    --------------  -----  \n",
      " 0   Survived  891 non-null    int64  \n",
      " 1   Pclass    891 non-null    int64  \n",
      " 2   Sex       891 non-null    object \n",
      " 3   Age       714 non-null    float64\n",
      " 4   SibSp     891 non-null    int64  \n",
      " 5   Parch     891 non-null    int64  \n",
      " 6   Fare      891 non-null    float64\n",
      " 7   Embarked  889 non-null    object \n",
      "dtypes: float64(2), int64(4), object(2)\n",
      "memory usage: 55.8+ KB\n"
     ]
    }
   ],
   "source": [
    "#Drop Name and Ticket\n",
    "\n",
    "train_df.drop(['Name', 'Ticket', 'PassengerId', 'Cabin'], axis=1, inplace=True)\n",
    "train_df.info()"
   ]
  },
  {
   "cell_type": "markdown",
   "execution_count": null,
   "metadata": {
    "papermill": {
     "duration": 0.010722,
     "end_time": "2020-08-14T19:23:05.494846",
     "exception": false,
     "start_time": "2020-08-14T19:23:05.484124",
     "status": "completed"
    },
    "tags": []
   },
   "source": [
    "Before moving on, lets split ```train_df``` into ```X``` and ```y``` to prepare the data for training. "
   ]
  },
  {
   "cell_type": "code",
   "execution_count": 6,
   "metadata": {
    "execution": {
     "iopub.execute_input": "2020-08-14T19:23:05.526588Z",
     "iopub.status.busy": "2020-08-14T19:23:05.525293Z",
     "iopub.status.idle": "2020-08-14T19:23:05.530831Z",
     "shell.execute_reply": "2020-08-14T19:23:05.529985Z"
    },
    "papermill": {
     "duration": 0.025196,
     "end_time": "2020-08-14T19:23:05.530979",
     "exception": false,
     "start_time": "2020-08-14T19:23:05.505783",
     "status": "completed"
    },
    "tags": []
   },
   "outputs": [
    {
     "name": "stdout",
     "output_type": "stream",
     "text": [
      "Input features shape: (891, 7)\n",
      "Labels shape: (891,)\n"
     ]
    }
   ],
   "source": [
    "X = train_df.drop('Survived', axis=1, inplace=False)\n",
    "y = train_df['Survived']\n",
    "\n",
    "print(f'Input features shape: {X.shape}')\n",
    "print(f'Labels shape: {y.shape}')"
   ]
  },
  {
   "cell_type": "markdown",
   "execution_count": null,
   "metadata": {
    "papermill": {
     "duration": 0.010794,
     "end_time": "2020-08-14T19:23:05.554416",
     "exception": false,
     "start_time": "2020-08-14T19:23:05.543622",
     "status": "completed"
    },
    "tags": []
   },
   "source": [
    "## Data Analysis"
   ]
  },
  {
   "cell_type": "code",
   "execution_count": 7,
   "metadata": {
    "execution": {
     "iopub.execute_input": "2020-08-14T19:23:05.586665Z",
     "iopub.status.busy": "2020-08-14T19:23:05.585807Z",
     "iopub.status.idle": "2020-08-14T19:23:06.824672Z",
     "shell.execute_reply": "2020-08-14T19:23:06.823932Z"
    },
    "papermill": {
     "duration": 1.259349,
     "end_time": "2020-08-14T19:23:06.824849",
     "exception": false,
     "start_time": "2020-08-14T19:23:05.565500",
     "status": "completed"
    },
    "tags": []
   },
   "outputs": [],
   "source": [
    "#Import visualization libraries\n",
    "\n",
    "import matplotlib.pyplot as plt\n",
    "%matplotlib inline\n",
    "import seaborn as sns"
   ]
  },
  {
   "cell_type": "markdown",
   "execution_count": null,
   "metadata": {
    "papermill": {
     "duration": 0.010511,
     "end_time": "2020-08-14T19:23:06.847842",
     "exception": false,
     "start_time": "2020-08-14T19:23:06.837331",
     "status": "completed"
    },
    "tags": []
   },
   "source": [
    "Lets quickly look at the target variable to see evidence of **data imbalance**. "
   ]
  },
  {
   "cell_type": "code",
   "execution_count": 8,
   "metadata": {
    "execution": {
     "iopub.execute_input": "2020-08-14T19:23:06.880790Z",
     "iopub.status.busy": "2020-08-14T19:23:06.879929Z",
     "iopub.status.idle": "2020-08-14T19:23:07.062985Z",
     "shell.execute_reply": "2020-08-14T19:23:07.062155Z"
    },
    "papermill": {
     "duration": 0.204267,
     "end_time": "2020-08-14T19:23:07.063122",
     "exception": false,
     "start_time": "2020-08-14T19:23:06.858855",
     "status": "completed"
    },
    "tags": []
   },
   "outputs": [
    {
     "data": {
      "text/plain": [
       "Text(0, 0.5, 'Number of Passengers')"
      ]
     },
     "execution_count": 8,
     "metadata": {},
     "output_type": "execute_result"
    },
    {
     "data": {
      "image/png": "[encoded data removed]",
      "text/plain": [
       "<Figure size 432x288 with 1 Axes>"
      ]
     },
     "metadata": {
      "needs_background": "light"
     },
     "output_type": "display_data"
    }
   ],
   "source": [
    "sns.barplot(x = y.unique(), y = y.value_counts())\n",
    "plt.ylabel('Number of Passengers')"
   ]
  },
  {
   "cell_type": "markdown",
   "execution_count": null,
   "metadata": {
    "papermill": {
     "duration": 0.010871,
     "end_time": "2020-08-14T19:23:07.085596",
     "exception": false,
     "start_time": "2020-08-14T19:23:07.074725",
     "status": "completed"
    },
    "tags": []
   },
   "source": [
    "Fortunately, the imbalance isn't too bad for this dataset.\n",
    "\n",
    "Now, let's see which features have missing values. "
   ]
  },
  {
   "cell_type": "code",
   "execution_count": 9,
   "metadata": {
    "execution": {
     "iopub.execute_input": "2020-08-14T19:23:07.119399Z",
     "iopub.status.busy": "2020-08-14T19:23:07.118541Z",
     "iopub.status.idle": "2020-08-14T19:23:07.305553Z",
     "shell.execute_reply": "2020-08-14T19:23:07.304872Z"
    },
    "papermill": {
     "duration": 0.20883,
     "end_time": "2020-08-14T19:23:07.305716",
     "exception": false,
     "start_time": "2020-08-14T19:23:07.096886",
     "status": "completed"
    },
    "tags": []
   },
   "outputs": [
    {
     "name": "stdout",
     "output_type": "stream",
     "text": [
      "   Pclass  Sex  Age  SibSp  Parch  Fare  Embarked\n",
      "0     891  891  714    891    891   891       889\n"
     ]
    },
    {
     "data": {
      "image/png": "[encoded data removed]",
      "text/plain": [
       "<Figure size 720x432 with 1 Axes>"
      ]
     },
     "metadata": {
      "needs_background": "light"
     },
     "output_type": "display_data"
    }
   ],
   "source": [
    "frequencies = X.count()\n",
    "\n",
    "freq_df = pd.DataFrame([frequencies], columns=X.columns)\n",
    "print(freq_df.head())\n",
    "\n",
    "plt.figure(figsize=(10, 6))\n",
    "sns.barplot(x=X.columns, y = frequencies)\n",
    "plt.ylabel('Frequency')\n",
    "plt.xlabel('Feature')\n",
    "plt.show()\n",
    "\n"
   ]
  },
  {
   "cell_type": "markdown",
   "execution_count": null,
   "metadata": {
    "papermill": {
     "duration": 0.011499,
     "end_time": "2020-08-14T19:23:07.329131",
     "exception": false,
     "start_time": "2020-08-14T19:23:07.317632",
     "status": "completed"
    },
    "tags": []
   },
   "source": [
    "From the above figure, it is clear that the ```Age``` category has a significant number of missing values. However, from the values listed we ```Embarked``` is missing 2 values in addition.\n",
    "\n",
    "Fortunatly, Sci-kit Learn provides a nice and easy method to impute these missing values with the simple imputer. "
   ]
  },
  {
   "cell_type": "markdown",
   "execution_count": null,
   "metadata": {
    "papermill": {
     "duration": 0.011416,
     "end_time": "2020-08-14T19:23:07.352571",
     "exception": false,
     "start_time": "2020-08-14T19:23:07.341155",
     "status": "completed"
    },
    "tags": []
   },
   "source": [
    "## Imputing and One-Hot Encoding"
   ]
  },
  {
   "cell_type": "markdown",
   "execution_count": null,
   "metadata": {
    "papermill": {
     "duration": 0.011694,
     "end_time": "2020-08-14T19:23:07.376124",
     "exception": false,
     "start_time": "2020-08-14T19:23:07.364430",
     "status": "completed"
    },
    "tags": []
   },
   "source": [
    "Imputing is the process of dealing with missing values. The most basic way to overcome this challenge would be to remove all the instances/rows which contain missing values. However, if we do that, then we would only have 714 training instances which is much less than 891. Therefore, we use the ```SimpleImputer``` API. "
   ]
  },
  {
   "cell_type": "code",
   "execution_count": 10,
   "metadata": {
    "execution": {
     "iopub.execute_input": "2020-08-14T19:23:07.409493Z",
     "iopub.status.busy": "2020-08-14T19:23:07.408626Z",
     "iopub.status.idle": "2020-08-14T19:23:07.699515Z",
     "shell.execute_reply": "2020-08-14T19:23:07.698651Z"
    },
    "papermill": {
     "duration": 0.311611,
     "end_time": "2020-08-14T19:23:07.699689",
     "exception": false,
     "start_time": "2020-08-14T19:23:07.388078",
     "status": "completed"
    },
    "tags": []
   },
   "outputs": [],
   "source": [
    "from sklearn.pipeline import Pipeline\n",
    "from sklearn.impute import SimpleImputer\n",
    "from sklearn.preprocessing import StandardScaler, OneHotEncoder\n",
    "\n",
    "'''\n",
    "The following pipeline is only for numerical features:\n",
    "1. Fill in Missing Values with Median value of existing numbers\n",
    "2. Scale all the numbers to be in between 0 and 1\n",
    "'''\n",
    "\n",
    "num_pipeline = Pipeline([\n",
    "    ('imputer', SimpleImputer(strategy=\"median\")), \n",
    "    ('std_scaler', StandardScaler())\n",
    "])\n",
    "\n",
    "'''\n",
    "The following pipeline is only for categorical features:\n",
    "1. Fill in Missing Values with Most Frequent value from existing data\n",
    "2. One-hot encode (https://scikit-learn.org/stable/modules/generated/sklearn.preprocessing.OneHotEncoder.html)\n",
    "'''\n",
    "\n",
    "cat_pipeline = Pipeline([\n",
    "    ('cat_imputer', SimpleImputer(strategy='most_frequent')),\n",
    "    ('one_hot', OneHotEncoder())\n",
    "])\n"
   ]
  },
  {
   "cell_type": "code",
   "execution_count": 11,
   "metadata": {
    "execution": {
     "iopub.execute_input": "2020-08-14T19:23:07.733236Z",
     "iopub.status.busy": "2020-08-14T19:23:07.732407Z",
     "iopub.status.idle": "2020-08-14T19:23:07.766528Z",
     "shell.execute_reply": "2020-08-14T19:23:07.765760Z"
    },
    "papermill": {
     "duration": 0.054909,
     "end_time": "2020-08-14T19:23:07.766665",
     "exception": false,
     "start_time": "2020-08-14T19:23:07.711756",
     "status": "completed"
    },
    "tags": []
   },
   "outputs": [
    {
     "data": {
      "text/plain": [
       "(891, 12)"
      ]
     },
     "execution_count": 11,
     "metadata": {},
     "output_type": "execute_result"
    }
   ],
   "source": [
    "#Combine Pipelines\n",
    "\n",
    "from sklearn.compose import ColumnTransformer\n",
    "\n",
    "num_attribs = ['Age', 'SibSp', 'Parch', 'Fare']\n",
    "cat_attribs = ['Pclass', 'Sex', 'Embarked']\n",
    "\n",
    "full_pipeline = ColumnTransformer([(\"num\", num_pipeline, num_attribs), \n",
    "                                   (\"cat\", cat_pipeline, cat_attribs)])\n",
    "X = full_pipeline.fit_transform(X)\n",
    "X.shape"
   ]
  },
  {
   "cell_type": "markdown",
   "execution_count": null,
   "metadata": {
    "papermill": {
     "duration": 0.011766,
     "end_time": "2020-08-14T19:23:07.790549",
     "exception": false,
     "start_time": "2020-08-14T19:23:07.778783",
     "status": "completed"
    },
    "tags": []
   },
   "source": [
    "Now that we have finished preparing the data, we are ready to split it into a train and validation set using ```train_test_split``` from sklearn."
   ]
  },
  {
   "cell_type": "code",
   "execution_count": 12,
   "metadata": {
    "execution": {
     "iopub.execute_input": "2020-08-14T19:23:07.823165Z",
     "iopub.status.busy": "2020-08-14T19:23:07.821884Z",
     "iopub.status.idle": "2020-08-14T19:23:07.826956Z",
     "shell.execute_reply": "2020-08-14T19:23:07.826157Z"
    },
    "papermill": {
     "duration": 0.02431,
     "end_time": "2020-08-14T19:23:07.827119",
     "exception": false,
     "start_time": "2020-08-14T19:23:07.802809",
     "status": "completed"
    },
    "tags": []
   },
   "outputs": [],
   "source": [
    "from sklearn.model_selection import train_test_split\n",
    "\n",
    "X_train, X_val, y_train, y_val = train_test_split(X, y, test_size=0.2, random_state=42)"
   ]
  },
  {
   "cell_type": "markdown",
   "execution_count": null,
   "metadata": {
    "papermill": {
     "duration": 0.011845,
     "end_time": "2020-08-14T19:23:07.851305",
     "exception": false,
     "start_time": "2020-08-14T19:23:07.839460",
     "status": "completed"
    },
    "tags": []
   },
   "source": [
    "# Neural Network\n",
    "\n",
    "Now that everything is ready, let's start building the model! We will see how we can use Tensorflow to create a simple neural network to solve this task. For now, we will use 2 hidden layers followed by the output layer with one nueron (binary problem). \n",
    "\n",
    "If you would like to get an in-depth understanding of how neural networks learn through back-propogation, please visit this tutorial on [Neural Networks from Scratch](https://www.kaggle.com/saumandas/neural-networks-from-scratch-tutorial). You will learn how to create a neural network from scratch to model the California Housing Dataset. "
   ]
  },
  {
   "cell_type": "code",
   "execution_count": 13,
   "metadata": {
    "execution": {
     "iopub.execute_input": "2020-08-14T19:23:07.881805Z",
     "iopub.status.busy": "2020-08-14T19:23:07.881002Z",
     "iopub.status.idle": "2020-08-14T19:23:15.937758Z",
     "shell.execute_reply": "2020-08-14T19:23:15.936961Z"
    },
    "papermill": {
     "duration": 8.074586,
     "end_time": "2020-08-14T19:23:15.937936",
     "exception": false,
     "start_time": "2020-08-14T19:23:07.863350",
     "status": "completed"
    },
    "tags": []
   },
   "outputs": [],
   "source": [
    "#Import necessary libraries\n",
    "\n",
    "import tensorflow as tf\n",
    "from tensorflow import keras\n",
    "from tensorflow.keras.models import Sequential\n",
    "from tensorflow.keras import layers as L\n"
   ]
  },
  {
   "cell_type": "markdown",
   "execution_count": null,
   "metadata": {
    "papermill": {
     "duration": 0.012269,
     "end_time": "2020-08-14T19:23:15.963360",
     "exception": false,
     "start_time": "2020-08-14T19:23:15.951091",
     "status": "completed"
    },
    "tags": []
   },
   "source": [
    "Creating neural networks is pretty simple in tensorflow. Here are the steps:\n",
    "\n",
    "1. Define Sequential model ```model = Sequential()```\n",
    "2. Add Input Layer ```model.add(L.InputLayer(input_shape=...))``` --> Optional!\n",
    "3. Add fully connected layers ```model.add(L.Dense(...))```\n",
    "4. Compile Model\n",
    "5. Callbacks (if necessary)\n",
    "6. Train Model\n",
    "\n",
    "Of course, more complex models can also be created, but we can conquer this dataset by using basic tensorflow API. "
   ]
  },
  {
   "cell_type": "code",
   "execution_count": 14,
   "metadata": {
    "execution": {
     "iopub.execute_input": "2020-08-14T19:23:16.007489Z",
     "iopub.status.busy": "2020-08-14T19:23:16.003269Z",
     "iopub.status.idle": "2020-08-14T19:23:16.344948Z",
     "shell.execute_reply": "2020-08-14T19:23:16.343669Z"
    },
    "papermill": {
     "duration": 0.367698,
     "end_time": "2020-08-14T19:23:16.345173",
     "exception": false,
     "start_time": "2020-08-14T19:23:15.977475",
     "status": "completed"
    },
    "tags": []
   },
   "outputs": [
    {
     "name": "stdout",
     "output_type": "stream",
     "text": [
      "Model: \"titanic_model\"\n",
      "_________________________________________________________________\n",
      "Layer (type)                 Output Shape              Param #   \n",
      "=================================================================\n",
      "dense (Dense)                (None, 512)               6656      \n",
      "_________________________________________________________________\n",
      "dense_1 (Dense)              (None, 1024)              525312    \n",
      "_________________________________________________________________\n",
      "dropout (Dropout)            (None, 1024)              0         \n",
      "_________________________________________________________________\n",
      "dense_2 (Dense)              (None, 512)               524800    \n",
      "_________________________________________________________________\n",
      "dropout_1 (Dropout)          (None, 512)               0         \n",
      "_________________________________________________________________\n",
      "dense_3 (Dense)              (None, 128)               65664     \n",
      "_________________________________________________________________\n",
      "dense_4 (Dense)              (None, 64)                8256      \n",
      "_________________________________________________________________\n",
      "dense_5 (Dense)              (None, 64)                4160      \n",
      "_________________________________________________________________\n",
      "dense_6 (Dense)              (None, 1)                 65        \n",
      "=================================================================\n",
      "Total params: 1,134,913\n",
      "Trainable params: 1,134,913\n",
      "Non-trainable params: 0\n",
      "_________________________________________________________________\n"
     ]
    }
   ],
   "source": [
    "#Step 1\n",
    "model = Sequential(name='titanic_model')\n",
    "\n",
    "#Step 2\n",
    "model.add(L.InputLayer(input_shape=(12,))) # necessary to use model.summary()\n",
    "\n",
    "#Step 3\n",
    "model.add(L.Dense(512, activation='relu'))\n",
    "model.add(L.Dense(1024, activation='relu'))\n",
    "model.add(L.Dropout(0.4)) #prevents overfitting by setting 40% of nuerons to 0\n",
    "model.add(L.Dense(512, activation='relu'))\n",
    "model.add(L.Dropout(0.4))\n",
    "model.add(L.Dense(128, activation='relu'))\n",
    "model.add(L.Dense(64, activation='relu'))\n",
    "model.add(L.Dense(64, activation='relu'))\n",
    "model.add(L.Dense(1, activation='sigmoid')) # output layer, use sigmoid for binary\n",
    "\n",
    "model.summary()"
   ]
  },
  {
   "cell_type": "code",
   "execution_count": 15,
   "metadata": {
    "execution": {
     "iopub.execute_input": "2020-08-14T19:23:16.388100Z",
     "iopub.status.busy": "2020-08-14T19:23:16.387192Z",
     "iopub.status.idle": "2020-08-14T19:23:16.394296Z",
     "shell.execute_reply": "2020-08-14T19:23:16.394910Z"
    },
    "papermill": {
     "duration": 0.035914,
     "end_time": "2020-08-14T19:23:16.395095",
     "exception": false,
     "start_time": "2020-08-14T19:23:16.359181",
     "status": "completed"
    },
    "tags": []
   },
   "outputs": [],
   "source": [
    "#Step 4\n",
    "model.compile(loss='binary_crossentropy', optimizer=keras.optimizers.Adam(0.0001), metrics=['accuracy'])"
   ]
  },
  {
   "cell_type": "code",
   "execution_count": 16,
   "metadata": {
    "execution": {
     "iopub.execute_input": "2020-08-14T19:23:16.432237Z",
     "iopub.status.busy": "2020-08-14T19:23:16.431291Z",
     "iopub.status.idle": "2020-08-14T19:23:23.943683Z",
     "shell.execute_reply": "2020-08-14T19:23:23.942769Z"
    },
    "papermill": {
     "duration": 7.535206,
     "end_time": "2020-08-14T19:23:23.943859",
     "exception": false,
     "start_time": "2020-08-14T19:23:16.408653",
     "status": "completed"
    },
    "tags": []
   },
   "outputs": [
    {
     "name": "stdout",
     "output_type": "stream",
     "text": [
      "Epoch 1/50\n",
      "89/89 [==============================] - 1s 12ms/step - loss: 0.6621 - accuracy: 0.6390 - val_loss: 0.5707 - val_accuracy: 0.7430\n",
      "Epoch 2/50\n",
      "89/89 [==============================] - 1s 10ms/step - loss: 0.4970 - accuracy: 0.7879 - val_loss: 0.4409 - val_accuracy: 0.8045\n",
      "Epoch 3/50\n",
      "89/89 [==============================] - 1s 9ms/step - loss: 0.4596 - accuracy: 0.8048 - val_loss: 0.4351 - val_accuracy: 0.8101\n",
      "Epoch 4/50\n",
      "89/89 [==============================] - 1s 9ms/step - loss: 0.4329 - accuracy: 0.8230 - val_loss: 0.4388 - val_accuracy: 0.8212\n",
      "Epoch 5/50\n",
      "89/89 [==============================] - 1s 9ms/step - loss: 0.4137 - accuracy: 0.8329 - val_loss: 0.4382 - val_accuracy: 0.8045\n",
      "Epoch 6/50\n",
      "89/89 [==============================] - 1s 12ms/step - loss: 0.4063 - accuracy: 0.8329 - val_loss: 0.4641 - val_accuracy: 0.8101\n",
      "Epoch 7/50\n",
      "84/89 [===========================>..] - ETA: 0s - loss: 0.4102 - accuracy: 0.8333\n",
      "Reached 83% accuracy so cancelling training!\n",
      "89/89 [==============================] - 1s 10ms/step - loss: 0.4145 - accuracy: 0.8301 - val_loss: 0.4463 - val_accuracy: 0.8324\n"
     ]
    }
   ],
   "source": [
    "'''\n",
    "This custom callback stops training once the validation accuracy reaches 83%.\n",
    "There are several callbacks already implemented by keras.\n",
    "https://www.tensorflow.org/api_docs/python/tf/keras/callbacks\n",
    "\n",
    "'''\n",
    "\n",
    "class myCallback(tf.keras.callbacks.Callback):\n",
    "    def on_epoch_end(self, epoch, logs={}):\n",
    "        if(logs.get('val_accuracy')>0.83):\n",
    "            print(\"\\nReached 83% accuracy so cancelling training!\")\n",
    "            self.model.stop_training = True\n",
    "\n",
    "\n",
    "#Step 6\n",
    "history = model.fit(X_train, y_train, \n",
    "                    validation_data=(X_val, y_val), \n",
    "                    batch_size=8, \n",
    "                    callbacks=[myCallback()],\n",
    "                    epochs=50)"
   ]
  },
  {
   "cell_type": "code",
   "execution_count": 17,
   "metadata": {
    "execution": {
     "iopub.execute_input": "2020-08-14T19:23:24.002528Z",
     "iopub.status.busy": "2020-08-14T19:23:23.997334Z",
     "iopub.status.idle": "2020-08-14T19:23:24.434247Z",
     "shell.execute_reply": "2020-08-14T19:23:24.433430Z"
    },
    "papermill": {
     "duration": 0.467924,
     "end_time": "2020-08-14T19:23:24.434415",
     "exception": false,
     "start_time": "2020-08-14T19:23:23.966491",
     "status": "completed"
    },
    "tags": []
   },
   "outputs": [
    {
     "data": {
      "image/png": "[encoded data removed]",
      "text/plain": [
       "<Figure size 432x288 with 1 Axes>"
      ]
     },
     "metadata": {
      "needs_background": "light"
     },
     "output_type": "display_data"
    },
    {
     "data": {
      "image/png": "[encoded data removed]",
      "text/plain": [
       "<Figure size 432x288 with 1 Axes>"
      ]
     },
     "metadata": {
      "needs_background": "light"
     },
     "output_type": "display_data"
    }
   ],
   "source": [
    "plt.plot(history.history['loss'])\n",
    "plt.plot(history.history['val_loss'])\n",
    "plt.title(\"Model Loss\")\n",
    "plt.xlabel(\"Epoch\")\n",
    "plt.ylabel(\"Loss\")\n",
    "plt.legend(['train', 'val'], loc='upper right')\n",
    "plt.show()\n",
    "\n",
    "plt.plot(history.history['accuracy'])\n",
    "plt.plot(history.history['val_accuracy'])\n",
    "plt.title(\"Model Accuracy\")\n",
    "plt.xlabel(\"Epoch\")\n",
    "plt.ylabel(\"Accuracy\")\n",
    "plt.legend(['train', 'val'], loc='upper right')\n",
    "plt.show()"
   ]
  },
  {
   "cell_type": "markdown",
   "execution_count": null,
   "metadata": {
    "papermill": {
     "duration": 0.021706,
     "end_time": "2020-08-14T19:23:24.477824",
     "exception": false,
     "start_time": "2020-08-14T19:23:24.456118",
     "status": "completed"
    },
    "tags": []
   },
   "source": [
    "From the plot above, hopefully it is clear that the train loss goes down consistently while the validation loss starts increasing after the first few epochs. This is a good sign of overfitting. "
   ]
  },
  {
   "cell_type": "markdown",
   "execution_count": null,
   "metadata": {
    "papermill": {
     "duration": 0.022687,
     "end_time": "2020-08-14T19:23:24.524298",
     "exception": false,
     "start_time": "2020-08-14T19:23:24.501611",
     "status": "completed"
    },
    "tags": []
   },
   "source": [
    "# Prepare the Test Data\n",
    "\n",
    "Again we have to drop the data as we did in the train data. Then we also have to transform it using the same pipeline as before. After that, we say the person survived if the prediction was greater then 0.5. Finally, we can make our submission."
   ]
  },
  {
   "cell_type": "code",
   "execution_count": 18,
   "metadata": {
    "execution": {
     "iopub.execute_input": "2020-08-14T19:23:24.578931Z",
     "iopub.status.busy": "2020-08-14T19:23:24.578033Z",
     "iopub.status.idle": "2020-08-14T19:23:24.615264Z",
     "shell.execute_reply": "2020-08-14T19:23:24.614365Z"
    },
    "papermill": {
     "duration": 0.06975,
     "end_time": "2020-08-14T19:23:24.615420",
     "exception": false,
     "start_time": "2020-08-14T19:23:24.545670",
     "status": "completed"
    },
    "tags": []
   },
   "outputs": [
    {
     "data": {
      "text/html": [
       "<div>\n",
       "<style scoped>\n",
       "    .dataframe tbody tr th:only-of-type {\n",
       "        vertical-align: middle;\n",
       "    }\n",
       "\n",
       "    .dataframe tbody tr th {\n",
       "        vertical-align: top;\n",
       "    }\n",
       "\n",
       "    .dataframe thead th {\n",
       "        text-align: right;\n",
       "    }\n",
       "</style>\n",
       "<table border=\"1\" class=\"dataframe\">\n",
       "  <thead>\n",
       "    <tr style=\"text-align: right;\">\n",
       "      <th></th>\n",
       "      <th>Pclass</th>\n",
       "      <th>Sex</th>\n",
       "      <th>Age</th>\n",
       "      <th>SibSp</th>\n",
       "      <th>Parch</th>\n",
       "      <th>Fare</th>\n",
       "      <th>Embarked</th>\n",
       "    </tr>\n",
       "  </thead>\n",
       "  <tbody>\n",
       "    <tr>\n",
       "      <th>0</th>\n",
       "      <td>3</td>\n",
       "      <td>male</td>\n",
       "      <td>34.5</td>\n",
       "      <td>0</td>\n",
       "      <td>0</td>\n",
       "      <td>7.8292</td>\n",
       "      <td>Q</td>\n",
       "    </tr>\n",
       "    <tr>\n",
       "      <th>1</th>\n",
       "      <td>3</td>\n",
       "      <td>female</td>\n",
       "      <td>47.0</td>\n",
       "      <td>1</td>\n",
       "      <td>0</td>\n",
       "      <td>7.0000</td>\n",
       "      <td>S</td>\n",
       "    </tr>\n",
       "    <tr>\n",
       "      <th>2</th>\n",
       "      <td>2</td>\n",
       "      <td>male</td>\n",
       "      <td>62.0</td>\n",
       "      <td>0</td>\n",
       "      <td>0</td>\n",
       "      <td>9.6875</td>\n",
       "      <td>Q</td>\n",
       "    </tr>\n",
       "    <tr>\n",
       "      <th>3</th>\n",
       "      <td>3</td>\n",
       "      <td>male</td>\n",
       "      <td>27.0</td>\n",
       "      <td>0</td>\n",
       "      <td>0</td>\n",
       "      <td>8.6625</td>\n",
       "      <td>S</td>\n",
       "    </tr>\n",
       "    <tr>\n",
       "      <th>4</th>\n",
       "      <td>3</td>\n",
       "      <td>female</td>\n",
       "      <td>22.0</td>\n",
       "      <td>1</td>\n",
       "      <td>1</td>\n",
       "      <td>12.2875</td>\n",
       "      <td>S</td>\n",
       "    </tr>\n",
       "    <tr>\n",
       "      <th>...</th>\n",
       "      <td>...</td>\n",
       "      <td>...</td>\n",
       "      <td>...</td>\n",
       "      <td>...</td>\n",
       "      <td>...</td>\n",
       "      <td>...</td>\n",
       "      <td>...</td>\n",
       "    </tr>\n",
       "    <tr>\n",
       "      <th>413</th>\n",
       "      <td>3</td>\n",
       "      <td>male</td>\n",
       "      <td>NaN</td>\n",
       "      <td>0</td>\n",
       "      <td>0</td>\n",
       "      <td>8.0500</td>\n",
       "      <td>S</td>\n",
       "    </tr>\n",
       "    <tr>\n",
       "      <th>414</th>\n",
       "      <td>1</td>\n",
       "      <td>female</td>\n",
       "      <td>39.0</td>\n",
       "      <td>0</td>\n",
       "      <td>0</td>\n",
       "      <td>108.9000</td>\n",
       "      <td>C</td>\n",
       "    </tr>\n",
       "    <tr>\n",
       "      <th>415</th>\n",
       "      <td>3</td>\n",
       "      <td>male</td>\n",
       "      <td>38.5</td>\n",
       "      <td>0</td>\n",
       "      <td>0</td>\n",
       "      <td>7.2500</td>\n",
       "      <td>S</td>\n",
       "    </tr>\n",
       "    <tr>\n",
       "      <th>416</th>\n",
       "      <td>3</td>\n",
       "      <td>male</td>\n",
       "      <td>NaN</td>\n",
       "      <td>0</td>\n",
       "      <td>0</td>\n",
       "      <td>8.0500</td>\n",
       "      <td>S</td>\n",
       "    </tr>\n",
       "    <tr>\n",
       "      <th>417</th>\n",
       "      <td>3</td>\n",
       "      <td>male</td>\n",
       "      <td>NaN</td>\n",
       "      <td>1</td>\n",
       "      <td>1</td>\n",
       "      <td>22.3583</td>\n",
       "      <td>C</td>\n",
       "    </tr>\n",
       "  </tbody>\n",
       "</table>\n",
       "<p>418 rows × 7 columns</p>\n",
       "</div>"
      ],
      "text/plain": [
       "     Pclass     Sex   Age  SibSp  Parch      Fare Embarked\n",
       "0         3    male  34.5      0      0    7.8292        Q\n",
       "1         3  female  47.0      1      0    7.0000        S\n",
       "2         2    male  62.0      0      0    9.6875        Q\n",
       "3         3    male  27.0      0      0    8.6625        S\n",
       "4         3  female  22.0      1      1   12.2875        S\n",
       "..      ...     ...   ...    ...    ...       ...      ...\n",
       "413       3    male   NaN      0      0    8.0500        S\n",
       "414       1  female  39.0      0      0  108.9000        C\n",
       "415       3    male  38.5      0      0    7.2500        S\n",
       "416       3    male   NaN      0      0    8.0500        S\n",
       "417       3    male   NaN      1      1   22.3583        C\n",
       "\n",
       "[418 rows x 7 columns]"
      ]
     },
     "execution_count": 18,
     "metadata": {},
     "output_type": "execute_result"
    }
   ],
   "source": [
    "test_df = pd.read_csv('../input/titanic/test.csv')\n",
    "test_df.drop(['PassengerId', 'Name', 'Ticket', 'Cabin'], axis=1, inplace=True)\n",
    "test_df"
   ]
  },
  {
   "cell_type": "code",
   "execution_count": 19,
   "metadata": {
    "execution": {
     "iopub.execute_input": "2020-08-14T19:23:24.681478Z",
     "iopub.status.busy": "2020-08-14T19:23:24.678458Z",
     "iopub.status.idle": "2020-08-14T19:23:24.687221Z",
     "shell.execute_reply": "2020-08-14T19:23:24.687858Z"
    },
    "papermill": {
     "duration": 0.049604,
     "end_time": "2020-08-14T19:23:24.688200",
     "exception": false,
     "start_time": "2020-08-14T19:23:24.638596",
     "status": "completed"
    },
    "tags": []
   },
   "outputs": [
    {
     "data": {
      "text/plain": [
       "(418, 12)"
      ]
     },
     "execution_count": 19,
     "metadata": {},
     "output_type": "execute_result"
    }
   ],
   "source": [
    "test_prepared = full_pipeline.transform(test_df)\n",
    "test_prepared.shape"
   ]
  },
  {
   "cell_type": "code",
   "execution_count": 20,
   "metadata": {
    "execution": {
     "iopub.execute_input": "2020-08-14T19:23:24.741253Z",
     "iopub.status.busy": "2020-08-14T19:23:24.740024Z",
     "iopub.status.idle": "2020-08-14T19:23:24.955166Z",
     "shell.execute_reply": "2020-08-14T19:23:24.955853Z"
    },
    "papermill": {
     "duration": 0.245104,
     "end_time": "2020-08-14T19:23:24.956052",
     "exception": false,
     "start_time": "2020-08-14T19:23:24.710948",
     "status": "completed"
    },
    "tags": []
   },
   "outputs": [
    {
     "data": {
      "text/plain": [
       "array([[0.1106396 ],\n",
       "       [0.3152263 ],\n",
       "       [0.0725987 ],\n",
       "       [0.1024656 ],\n",
       "       [0.28264302]], dtype=float32)"
      ]
     },
     "execution_count": 20,
     "metadata": {},
     "output_type": "execute_result"
    }
   ],
   "source": [
    "preds = model.predict(test_prepared)\n",
    "preds[:5]"
   ]
  },
  {
   "cell_type": "code",
   "execution_count": 21,
   "metadata": {
    "execution": {
     "iopub.execute_input": "2020-08-14T19:23:25.010617Z",
     "iopub.status.busy": "2020-08-14T19:23:25.009588Z",
     "iopub.status.idle": "2020-08-14T19:23:25.027857Z",
     "shell.execute_reply": "2020-08-14T19:23:25.026985Z"
    },
    "papermill": {
     "duration": 0.049891,
     "end_time": "2020-08-14T19:23:25.028039",
     "exception": false,
     "start_time": "2020-08-14T19:23:24.978148",
     "status": "completed"
    },
    "tags": []
   },
   "outputs": [
    {
     "data": {
      "text/html": [
       "<div>\n",
       "<style scoped>\n",
       "    .dataframe tbody tr th:only-of-type {\n",
       "        vertical-align: middle;\n",
       "    }\n",
       "\n",
       "    .dataframe tbody tr th {\n",
       "        vertical-align: top;\n",
       "    }\n",
       "\n",
       "    .dataframe thead th {\n",
       "        text-align: right;\n",
       "    }\n",
       "</style>\n",
       "<table border=\"1\" class=\"dataframe\">\n",
       "  <thead>\n",
       "    <tr style=\"text-align: right;\">\n",
       "      <th></th>\n",
       "      <th>PassengerId</th>\n",
       "      <th>Survived</th>\n",
       "    </tr>\n",
       "  </thead>\n",
       "  <tbody>\n",
       "    <tr>\n",
       "      <th>0</th>\n",
       "      <td>892</td>\n",
       "      <td>0</td>\n",
       "    </tr>\n",
       "    <tr>\n",
       "      <th>1</th>\n",
       "      <td>893</td>\n",
       "      <td>0</td>\n",
       "    </tr>\n",
       "    <tr>\n",
       "      <th>2</th>\n",
       "      <td>894</td>\n",
       "      <td>0</td>\n",
       "    </tr>\n",
       "    <tr>\n",
       "      <th>3</th>\n",
       "      <td>895</td>\n",
       "      <td>0</td>\n",
       "    </tr>\n",
       "    <tr>\n",
       "      <th>4</th>\n",
       "      <td>896</td>\n",
       "      <td>0</td>\n",
       "    </tr>\n",
       "  </tbody>\n",
       "</table>\n",
       "</div>"
      ],
      "text/plain": [
       "   PassengerId  Survived\n",
       "0          892         0\n",
       "1          893         0\n",
       "2          894         0\n",
       "3          895         0\n",
       "4          896         0"
      ]
     },
     "execution_count": 21,
     "metadata": {},
     "output_type": "execute_result"
    }
   ],
   "source": [
    "submission = pd.read_csv('../input/titanic/gender_submission.csv')\n",
    "submission['Survived'] = [0 if pred < 0.5 else 1 for pred in preds]\n",
    "submission.head()"
   ]
  },
  {
   "cell_type": "code",
   "execution_count": 22,
   "metadata": {
    "execution": {
     "iopub.execute_input": "2020-08-14T19:23:25.081839Z",
     "iopub.status.busy": "2020-08-14T19:23:25.080933Z",
     "iopub.status.idle": "2020-08-14T19:23:25.156289Z",
     "shell.execute_reply": "2020-08-14T19:23:25.157069Z"
    },
    "papermill": {
     "duration": 0.105711,
     "end_time": "2020-08-14T19:23:25.157311",
     "exception": false,
     "start_time": "2020-08-14T19:23:25.051600",
     "status": "completed"
    },
    "tags": []
   },
   "outputs": [
    {
     "data": {
      "text/html": [
       "<a href='submission.csv' target='_blank'>submission.csv</a><br>"
      ],
      "text/plain": [
       "/kaggle/working/submission.csv"
      ]
     },
     "execution_count": 22,
     "metadata": {},
     "output_type": "execute_result"
    }
   ],
   "source": [
    "from IPython.display import FileLink\n",
    "\n",
    "\n",
    "submission.to_csv('submission.csv',index=False)\n",
    "FileLink(r'submission.csv')"
   ]
  },
  {
   "cell_type": "markdown",
   "execution_count": null,
   "metadata": {
    "papermill": {
     "duration": 0.022404,
     "end_time": "2020-08-14T19:23:25.202814",
     "exception": false,
     "start_time": "2020-08-14T19:23:25.180410",
     "status": "completed"
    },
    "tags": []
   },
   "source": [
    "**Please Upvote if you found this helpful!**\n",
    "**Thanks**"
   ]
  }
 ],
 "metadata": {
  "kernelspec": {
   "display_name": "Python 3",
   "language": "python",
   "name": "python3"
  },
  "language_info": {
   "codemirror_mode": {
    "name": "ipython",
    "version": 3
   },
   "file_extension": ".py",
   "mimetype": "text/x-python",
   "name": "python",
   "nbconvert_exporter": "python",
   "pygments_lexer": "ipython3",
   "version": "3.7.6"
  },
  "papermill": {
   "duration": 25.390132,
   "end_time": "2020-08-14T19:23:25.337396",
   "environment_variables": {},
   "exception": null,
   "input_path": "__notebook__.ipynb",
   "output_path": "__notebook__.ipynb",
   "parameters": {},
   "start_time": "2020-08-14T19:22:59.947264",
   "version": "2.1.0"
  }
 },
 "nbformat": 4,
 "nbformat_minor": 4
}
